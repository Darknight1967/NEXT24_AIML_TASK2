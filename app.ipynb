{
 "cells": [
  {
   "cell_type": "code",
   "execution_count": null,
   "id": "bc1b6b09",
   "metadata": {},
   "outputs": [],
   "source": [
    "from flask import Flask, render_template, request\n",
    "import os\n",
    "from keras.models import load_model\n",
    "from keras.preprocessing import image\n",
    "import numpy as np\n",
    "\n",
    "app = Flask(__name__)\n",
    "\n",
    "# Load the trained model\n",
    "model_path = os.path.join(os.path.dirname(__file__), '..', 'model', 'trained_model.h5')\n",
    "model = load_model(model_path)\n",
    "\n",
    "def predict_disease(img_path):\n",
    "    img = image.load_img(img_path, target_size=(128, 128))\n",
    "    img_array = image.img_to_array(img)\n",
    "    img_array = np.expand_dims(img_array, axis=0)\n",
    "    img_array /= 255.0\n",
    "\n",
    "    prediction = model.predict(img_array)\n",
    "    if prediction < 0.5:\n",
    "        return \"Healthy\"\n",
    "    else:\n",
    "        return \"Diseased\"\n",
    "\n",
    "@app.route('/', methods=['GET', 'POST'])\n",
    "def index():\n",
    "    if request.method == 'POST':\n",
    "        if 'file' not in request.files:\n",
    "            return 'No file part'\n",
    "        file = request.files['file']\n",
    "        if file.filename == '':\n",
    "            return 'No selected file'\n",
    "        if file:\n",
    "            file_path = os.path.join('static/uploads', file.filename)\n",
    "            file.save(file_path)\n",
    "            result = predict_disease(file_path)\n",
    "            return render_template('index.html', result=result, img_path=file_path)\n",
    "    return render_template('index.html', result=None, img_path=None)\n",
    "\n",
    "if __name__ == '__main__':\n",
    "    app.run(debug=True)\n"
   ]
  }
 ],
 "metadata": {
  "kernelspec": {
   "display_name": "Python 3 (ipykernel)",
   "language": "python",
   "name": "python3"
  },
  "language_info": {
   "codemirror_mode": {
    "name": "ipython",
    "version": 3
   },
   "file_extension": ".py",
   "mimetype": "text/x-python",
   "name": "python",
   "nbconvert_exporter": "python",
   "pygments_lexer": "ipython3",
   "version": "3.9.12"
  }
 },
 "nbformat": 4,
 "nbformat_minor": 5
}
